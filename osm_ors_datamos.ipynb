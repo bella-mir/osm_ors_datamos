{
 "cells": [
  {
   "attachments": {},
   "cell_type": "markdown",
   "metadata": {},
   "source": [
    "# OSM + ORS + DATA_MOS"
   ]
  },
  {
   "attachments": {},
   "cell_type": "markdown",
   "metadata": {},
   "source": [
    "## 1. Import libraries"
   ]
  },
  {
   "cell_type": "code",
   "execution_count": null,
   "metadata": {},
   "outputs": [],
   "source": [
    "import osmnx as ox\n",
    "import geopandas as gpd\n",
    "import folium\n",
    "import requests\n",
    "import pandas as pd"
   ]
  },
  {
   "attachments": {},
   "cell_type": "markdown",
   "metadata": {},
   "source": [
    "## 2. Explore osmnx library"
   ]
  },
  {
   "attachments": {},
   "cell_type": "markdown",
   "metadata": {},
   "source": [
    "#### 2.1 Select territory "
   ]
  },
  {
   "cell_type": "code",
   "execution_count": null,
   "metadata": {},
   "outputs": [],
   "source": [
    "area = ox.geocode_to_gdf('Borovsk')"
   ]
  },
  {
   "attachments": {},
   "cell_type": "markdown",
   "metadata": {},
   "source": [
    "#### 2.2 Explore the boundaries we get"
   ]
  },
  {
   "cell_type": "code",
   "execution_count": 4,
   "metadata": {},
   "outputs": [
    {
     "data": {
      "text/html": [
       "<div>\n",
       "<style scoped>\n",
       "    .dataframe tbody tr th:only-of-type {\n",
       "        vertical-align: middle;\n",
       "    }\n",
       "\n",
       "    .dataframe tbody tr th {\n",
       "        vertical-align: top;\n",
       "    }\n",
       "\n",
       "    .dataframe thead th {\n",
       "        text-align: right;\n",
       "    }\n",
       "</style>\n",
       "<table border=\"1\" class=\"dataframe\">\n",
       "  <thead>\n",
       "    <tr style=\"text-align: right;\">\n",
       "      <th></th>\n",
       "      <th>geometry</th>\n",
       "      <th>bbox_north</th>\n",
       "      <th>bbox_south</th>\n",
       "      <th>bbox_east</th>\n",
       "      <th>bbox_west</th>\n",
       "      <th>place_id</th>\n",
       "      <th>osm_type</th>\n",
       "      <th>osm_id</th>\n",
       "      <th>lat</th>\n",
       "      <th>lon</th>\n",
       "      <th>display_name</th>\n",
       "      <th>class</th>\n",
       "      <th>type</th>\n",
       "      <th>importance</th>\n",
       "    </tr>\n",
       "  </thead>\n",
       "  <tbody>\n",
       "    <tr>\n",
       "      <th>0</th>\n",
       "      <td>POLYGON ((36.44448 55.20016, 36.44454 55.19990...</td>\n",
       "      <td>55.240295</td>\n",
       "      <td>55.18143</td>\n",
       "      <td>36.560165</td>\n",
       "      <td>36.444484</td>\n",
       "      <td>308030994</td>\n",
       "      <td>relation</td>\n",
       "      <td>1919535</td>\n",
       "      <td>55.206719</td>\n",
       "      <td>36.481388</td>\n",
       "      <td>Borovsk, Borovsky District, Kaluga Oblast, Cen...</td>\n",
       "      <td>boundary</td>\n",
       "      <td>administrative</td>\n",
       "      <td>0.599265</td>\n",
       "    </tr>\n",
       "  </tbody>\n",
       "</table>\n",
       "</div>"
      ],
      "text/plain": [
       "                                            geometry  bbox_north  bbox_south  \\\n",
       "0  POLYGON ((36.44448 55.20016, 36.44454 55.19990...   55.240295    55.18143   \n",
       "\n",
       "   bbox_east  bbox_west   place_id  osm_type   osm_id        lat        lon  \\\n",
       "0  36.560165  36.444484  308030994  relation  1919535  55.206719  36.481388   \n",
       "\n",
       "                                        display_name     class  \\\n",
       "0  Borovsk, Borovsky District, Kaluga Oblast, Cen...  boundary   \n",
       "\n",
       "             type  importance  \n",
       "0  administrative    0.599265  "
      ]
     },
     "execution_count": 4,
     "metadata": {},
     "output_type": "execute_result"
    }
   ],
   "source": [
    "area.head()"
   ]
  },
  {
   "attachments": {},
   "cell_type": "markdown",
   "metadata": {},
   "source": [
    "#### 2.3 List key-value pairs for tags and get geometries"
   ]
  },
  {
   "cell_type": "code",
   "execution_count": 4,
   "metadata": {},
   "outputs": [
    {
     "data": {
      "text/html": [
       "<div>\n",
       "<style scoped>\n",
       "    .dataframe tbody tr th:only-of-type {\n",
       "        vertical-align: middle;\n",
       "    }\n",
       "\n",
       "    .dataframe tbody tr th {\n",
       "        vertical-align: top;\n",
       "    }\n",
       "\n",
       "    .dataframe thead th {\n",
       "        text-align: right;\n",
       "    }\n",
       "</style>\n",
       "<table border=\"1\" class=\"dataframe\">\n",
       "  <thead>\n",
       "    <tr style=\"text-align: right;\">\n",
       "      <th></th>\n",
       "      <th></th>\n",
       "      <th>amenity</th>\n",
       "      <th>cuisine</th>\n",
       "      <th>name</th>\n",
       "      <th>note</th>\n",
       "      <th>geometry</th>\n",
       "      <th>operator</th>\n",
       "      <th>website</th>\n",
       "      <th>tourism</th>\n",
       "      <th>shop</th>\n",
       "      <th>addr:housenumber</th>\n",
       "      <th>...</th>\n",
       "      <th>man_made</th>\n",
       "      <th>leisure</th>\n",
       "      <th>bus</th>\n",
       "      <th>public_transport</th>\n",
       "      <th>fuel:lpg</th>\n",
       "      <th>sport</th>\n",
       "      <th>generator:method</th>\n",
       "      <th>generator:source</th>\n",
       "      <th>fixme</th>\n",
       "      <th>brand:en</th>\n",
       "    </tr>\n",
       "    <tr>\n",
       "      <th>element_type</th>\n",
       "      <th>osmid</th>\n",
       "      <th></th>\n",
       "      <th></th>\n",
       "      <th></th>\n",
       "      <th></th>\n",
       "      <th></th>\n",
       "      <th></th>\n",
       "      <th></th>\n",
       "      <th></th>\n",
       "      <th></th>\n",
       "      <th></th>\n",
       "      <th></th>\n",
       "      <th></th>\n",
       "      <th></th>\n",
       "      <th></th>\n",
       "      <th></th>\n",
       "      <th></th>\n",
       "      <th></th>\n",
       "      <th></th>\n",
       "      <th></th>\n",
       "      <th></th>\n",
       "      <th></th>\n",
       "    </tr>\n",
       "  </thead>\n",
       "  <tbody>\n",
       "    <tr>\n",
       "      <th rowspan=\"5\" valign=\"top\">way</th>\n",
       "      <th>100586666</th>\n",
       "      <td>NaN</td>\n",
       "      <td>NaN</td>\n",
       "      <td>NaN</td>\n",
       "      <td>NaN</td>\n",
       "      <td>POLYGON ((36.48716 55.20558, 36.48730 55.20521...</td>\n",
       "      <td>NaN</td>\n",
       "      <td>NaN</td>\n",
       "      <td>NaN</td>\n",
       "      <td>NaN</td>\n",
       "      <td>11</td>\n",
       "      <td>...</td>\n",
       "      <td>NaN</td>\n",
       "      <td>NaN</td>\n",
       "      <td>NaN</td>\n",
       "      <td>NaN</td>\n",
       "      <td>NaN</td>\n",
       "      <td>NaN</td>\n",
       "      <td>NaN</td>\n",
       "      <td>NaN</td>\n",
       "      <td>NaN</td>\n",
       "      <td>NaN</td>\n",
       "    </tr>\n",
       "    <tr>\n",
       "      <th>100586671</th>\n",
       "      <td>NaN</td>\n",
       "      <td>NaN</td>\n",
       "      <td>Магнит</td>\n",
       "      <td>NaN</td>\n",
       "      <td>POLYGON ((36.48712 55.20570, 36.48676 55.20565...</td>\n",
       "      <td>АО \"Тандер\"</td>\n",
       "      <td>NaN</td>\n",
       "      <td>NaN</td>\n",
       "      <td>supermarket</td>\n",
       "      <td>9</td>\n",
       "      <td>...</td>\n",
       "      <td>NaN</td>\n",
       "      <td>NaN</td>\n",
       "      <td>NaN</td>\n",
       "      <td>NaN</td>\n",
       "      <td>NaN</td>\n",
       "      <td>NaN</td>\n",
       "      <td>NaN</td>\n",
       "      <td>NaN</td>\n",
       "      <td>NaN</td>\n",
       "      <td>NaN</td>\n",
       "    </tr>\n",
       "    <tr>\n",
       "      <th>100586674</th>\n",
       "      <td>NaN</td>\n",
       "      <td>NaN</td>\n",
       "      <td>офисный центр</td>\n",
       "      <td>NaN</td>\n",
       "      <td>POLYGON ((36.48303 55.20665, 36.48299 55.20676...</td>\n",
       "      <td>NaN</td>\n",
       "      <td>NaN</td>\n",
       "      <td>NaN</td>\n",
       "      <td>NaN</td>\n",
       "      <td>16</td>\n",
       "      <td>...</td>\n",
       "      <td>NaN</td>\n",
       "      <td>NaN</td>\n",
       "      <td>NaN</td>\n",
       "      <td>NaN</td>\n",
       "      <td>NaN</td>\n",
       "      <td>NaN</td>\n",
       "      <td>NaN</td>\n",
       "      <td>NaN</td>\n",
       "      <td>NaN</td>\n",
       "      <td>NaN</td>\n",
       "    </tr>\n",
       "    <tr>\n",
       "      <th>100586693</th>\n",
       "      <td>NaN</td>\n",
       "      <td>NaN</td>\n",
       "      <td>NaN</td>\n",
       "      <td>NaN</td>\n",
       "      <td>POLYGON ((36.48299 55.20676, 36.48303 55.20665...</td>\n",
       "      <td>NaN</td>\n",
       "      <td>NaN</td>\n",
       "      <td>NaN</td>\n",
       "      <td>NaN</td>\n",
       "      <td>15</td>\n",
       "      <td>...</td>\n",
       "      <td>NaN</td>\n",
       "      <td>NaN</td>\n",
       "      <td>NaN</td>\n",
       "      <td>NaN</td>\n",
       "      <td>NaN</td>\n",
       "      <td>NaN</td>\n",
       "      <td>NaN</td>\n",
       "      <td>NaN</td>\n",
       "      <td>NaN</td>\n",
       "      <td>NaN</td>\n",
       "    </tr>\n",
       "    <tr>\n",
       "      <th>100586695</th>\n",
       "      <td>NaN</td>\n",
       "      <td>NaN</td>\n",
       "      <td>ТЦ \"Коробейники\"</td>\n",
       "      <td>NaN</td>\n",
       "      <td>POLYGON ((36.48640 55.20771, 36.48613 55.20767...</td>\n",
       "      <td>NaN</td>\n",
       "      <td>NaN</td>\n",
       "      <td>NaN</td>\n",
       "      <td>department_store</td>\n",
       "      <td>27</td>\n",
       "      <td>...</td>\n",
       "      <td>NaN</td>\n",
       "      <td>NaN</td>\n",
       "      <td>NaN</td>\n",
       "      <td>NaN</td>\n",
       "      <td>NaN</td>\n",
       "      <td>NaN</td>\n",
       "      <td>NaN</td>\n",
       "      <td>NaN</td>\n",
       "      <td>NaN</td>\n",
       "      <td>NaN</td>\n",
       "    </tr>\n",
       "  </tbody>\n",
       "</table>\n",
       "<p>5 rows × 59 columns</p>\n",
       "</div>"
      ],
      "text/plain": [
       "                       amenity cuisine              name note  \\\n",
       "element_type osmid                                              \n",
       "way          100586666     NaN     NaN               NaN  NaN   \n",
       "             100586671     NaN     NaN            Магнит  NaN   \n",
       "             100586674     NaN     NaN     офисный центр  NaN   \n",
       "             100586693     NaN     NaN               NaN  NaN   \n",
       "             100586695     NaN     NaN  ТЦ \"Коробейники\"  NaN   \n",
       "\n",
       "                                                                 geometry  \\\n",
       "element_type osmid                                                          \n",
       "way          100586666  POLYGON ((36.48716 55.20558, 36.48730 55.20521...   \n",
       "             100586671  POLYGON ((36.48712 55.20570, 36.48676 55.20565...   \n",
       "             100586674  POLYGON ((36.48303 55.20665, 36.48299 55.20676...   \n",
       "             100586693  POLYGON ((36.48299 55.20676, 36.48303 55.20665...   \n",
       "             100586695  POLYGON ((36.48640 55.20771, 36.48613 55.20767...   \n",
       "\n",
       "                           operator website tourism              shop  \\\n",
       "element_type osmid                                                      \n",
       "way          100586666          NaN     NaN     NaN               NaN   \n",
       "             100586671  АО \"Тандер\"     NaN     NaN       supermarket   \n",
       "             100586674          NaN     NaN     NaN               NaN   \n",
       "             100586693          NaN     NaN     NaN               NaN   \n",
       "             100586695          NaN     NaN     NaN  department_store   \n",
       "\n",
       "                       addr:housenumber  ... man_made leisure  bus  \\\n",
       "element_type osmid                       ...                         \n",
       "way          100586666               11  ...      NaN     NaN  NaN   \n",
       "             100586671                9  ...      NaN     NaN  NaN   \n",
       "             100586674               16  ...      NaN     NaN  NaN   \n",
       "             100586693               15  ...      NaN     NaN  NaN   \n",
       "             100586695               27  ...      NaN     NaN  NaN   \n",
       "\n",
       "                       public_transport fuel:lpg sport generator:method  \\\n",
       "element_type osmid                                                        \n",
       "way          100586666              NaN      NaN   NaN              NaN   \n",
       "             100586671              NaN      NaN   NaN              NaN   \n",
       "             100586674              NaN      NaN   NaN              NaN   \n",
       "             100586693              NaN      NaN   NaN              NaN   \n",
       "             100586695              NaN      NaN   NaN              NaN   \n",
       "\n",
       "                       generator:source fixme brand:en  \n",
       "element_type osmid                                      \n",
       "way          100586666              NaN   NaN      NaN  \n",
       "             100586671              NaN   NaN      NaN  \n",
       "             100586674              NaN   NaN      NaN  \n",
       "             100586693              NaN   NaN      NaN  \n",
       "             100586695              NaN   NaN      NaN  \n",
       "\n",
       "[5 rows x 59 columns]"
      ]
     },
     "execution_count": 4,
     "metadata": {},
     "output_type": "execute_result"
    }
   ],
   "source": [
    "tags = {'building': True}   \n",
    "buildings = ox.geometries_from_place('Borovsk', tags)\n",
    "\n",
    "buildings.head()"
   ]
  },
  {
   "attachments": {},
   "cell_type": "markdown",
   "metadata": {},
   "source": [
    "#### 2.4 Select only Polygon geometries"
   ]
  },
  {
   "cell_type": "code",
   "execution_count": 5,
   "metadata": {},
   "outputs": [],
   "source": [
    "buildings = buildings.loc[buildings.geometry.type=='Polygon']"
   ]
  },
  {
   "attachments": {},
   "cell_type": "markdown",
   "metadata": {},
   "source": [
    "#### 2.5 Create web-map to look at the results"
   ]
  },
  {
   "cell_type": "code",
   "execution_count": 34,
   "metadata": {},
   "outputs": [],
   "source": [
    "osm_map = folium.Map(location=[8.681495,49.41461], zoom_start=10)\n",
    "points  = folium.features.GeoJson(buildings.to_json())\n",
    "osm_map.add_child(points)\n",
    "osm_map"
   ]
  },
  {
   "attachments": {},
   "cell_type": "markdown",
   "metadata": {},
   "source": [
    "## 3. ORS_API: directions, isochrones and more "
   ]
  },
  {
   "attachments": {},
   "cell_type": "markdown",
   "metadata": {},
   "source": [
    "#### 3.1 Set API"
   ]
  },
  {
   "cell_type": "code",
   "execution_count": 25,
   "metadata": {},
   "outputs": [],
   "source": [
    "ors_api = '5b3ce3597851110001cf6248d9a1e1f412b0477091ecc738bb12766c'"
   ]
  },
  {
   "attachments": {},
   "cell_type": "markdown",
   "metadata": {},
   "source": [
    "#### 3.2 Set parameters of locations, transportation mode and isochrones range (in seconds)"
   ]
  },
  {
   "cell_type": "code",
   "execution_count": null,
   "metadata": {},
   "outputs": [
    {
     "ename": "",
     "evalue": "",
     "output_type": "error",
     "traceback": [
      "\u001b[1;31mFailed to start the Kernel. \n",
      "\u001b[1;31mUnhandled error. \n",
      "\u001b[1;31mView Jupyter <a href='command:jupyter.viewOutput'>log</a> for further details."
     ]
    }
   ],
   "source": [
    "transport_mode = 'driving-car'\n",
    "data= {\"locations\":[[8.681495,49.41461],[8.686507,49.41943]],\"range\":[300,200]}\n",
    "url = f'https://api.openrouteservice.org/v2/isochrones/{transport_mode}'\n",
    "headers = {\n",
    "    'Accept': 'application/json, application/geo+json, application/gpx+xml, img/png; charset=utf-8',\n",
    "    'Authorization': ors_api,\n",
    "    'Content-Type': 'application/json; charset=utf-8'\n",
    "}\n",
    "\n"
   ]
  },
  {
   "attachments": {},
   "cell_type": "markdown",
   "metadata": {},
   "source": [
    "#### 3.3 Request isochrones"
   ]
  },
  {
   "cell_type": "code",
   "execution_count": 27,
   "metadata": {},
   "outputs": [],
   "source": [
    "response = requests.post(url, json=data, headers=headers )"
   ]
  },
  {
   "attachments": {},
   "cell_type": "markdown",
   "metadata": {},
   "source": [
    "#### 3.4 Explore the result"
   ]
  },
  {
   "cell_type": "code",
   "execution_count": 30,
   "metadata": {},
   "outputs": [
    {
     "data": {
      "text/plain": [
       "{'type': 'FeatureCollection',\n",
       " 'bbox': [8.663618, 49.402738, 8.702732, 49.43552],\n",
       " 'features': [{'type': 'Feature',\n",
       "   'properties': {'group_index': 0,\n",
       "    'value': 200.0,\n",
       "    'center': [8.6814962950468, 49.41460087012079]},\n",
       "   'geometry': {'coordinates': [[[8.672909, 49.417168],\n",
       "      [8.672942, 49.417027],\n",
       "      [8.674787, 49.408767],\n",
       "      [8.67659, 49.407787],\n",
       "      [8.676705, 49.407785],\n",
       "      [8.676753, 49.407786],\n",
       "      [8.686325, 49.412709],\n",
       "      [8.690759, 49.413064],\n",
       "      [8.690946, 49.413068],\n",
       "      [8.691133, 49.413073],\n",
       "      [8.691763, 49.413165],\n",
       "      [8.693135, 49.417046],\n",
       "      [8.692997, 49.417504],\n",
       "      [8.692914, 49.417563],\n",
       "      [8.690386, 49.418705],\n",
       "      [8.684951, 49.420688],\n",
       "      [8.680829, 49.422103],\n",
       "      [8.677473, 49.422485],\n",
       "      [8.677271, 49.42236],\n",
       "      [8.67707, 49.422234],\n",
       "      [8.673169, 49.419824],\n",
       "      [8.672914, 49.417465],\n",
       "      [8.672909, 49.417168]]],\n",
       "    'type': 'Polygon'}},\n",
       "  {'type': 'Feature',\n",
       "   'properties': {'group_index': 0,\n",
       "    'value': 300.0,\n",
       "    'center': [8.6814962950468, 49.41460087012079]},\n",
       "   'geometry': {'coordinates': [[[8.663618, 49.419103],\n",
       "      [8.663684, 49.418749],\n",
       "      [8.665957, 49.409591],\n",
       "      [8.670627, 49.40574],\n",
       "      [8.678202, 49.402783],\n",
       "      [8.678377, 49.402738],\n",
       "      [8.685948, 49.40778],\n",
       "      [8.692084, 49.41052],\n",
       "      [8.700764, 49.413777],\n",
       "      [8.700689, 49.414129],\n",
       "      [8.692938, 49.420854],\n",
       "      [8.684042, 49.428159],\n",
       "      [8.683353, 49.42853],\n",
       "      [8.683328, 49.42854],\n",
       "      [8.67279, 49.428661],\n",
       "      [8.671042, 49.427828],\n",
       "      [8.670748, 49.427621],\n",
       "      [8.663618, 49.419103]]],\n",
       "    'type': 'Polygon'}},\n",
       "  {'type': 'Feature',\n",
       "   'properties': {'group_index': 1,\n",
       "    'value': 200.0,\n",
       "    'center': [8.68650646264858, 49.41942995674008]},\n",
       "   'geometry': {'coordinates': [[[8.676263, 49.417018],\n",
       "      [8.676284, 49.416829],\n",
       "      [8.677847, 49.415815],\n",
       "      [8.685134, 49.41249],\n",
       "      [8.685489, 49.41252],\n",
       "      [8.685952, 49.412559],\n",
       "      [8.692096, 49.413084],\n",
       "      [8.694076, 49.413581],\n",
       "      [8.694128, 49.413937],\n",
       "      [8.6942, 49.414836],\n",
       "      [8.694346, 49.417895],\n",
       "      [8.694371, 49.422541],\n",
       "      [8.69132, 49.425751],\n",
       "      [8.686808, 49.427284],\n",
       "      [8.683547, 49.428372],\n",
       "      [8.683203, 49.428299],\n",
       "      [8.681192, 49.425056],\n",
       "      [8.676269, 49.417209],\n",
       "      [8.676263, 49.417018]]],\n",
       "    'type': 'Polygon'}},\n",
       "  {'type': 'Feature',\n",
       "   'properties': {'group_index': 1,\n",
       "    'value': 300.0,\n",
       "    'center': [8.68650646264858, 49.41942995674008]},\n",
       "   'geometry': {'coordinates': [[[8.670803, 49.4198],\n",
       "      [8.670821, 49.41944],\n",
       "      [8.674569, 49.412583],\n",
       "      [8.676478, 49.408733],\n",
       "      [8.676899, 49.408809],\n",
       "      [8.686394, 49.410009],\n",
       "      [8.69089, 49.408727],\n",
       "      [8.692263, 49.408503],\n",
       "      [8.69262, 49.408544],\n",
       "      [8.702732, 49.414203],\n",
       "      [8.702647, 49.414553],\n",
       "      [8.697686, 49.422444],\n",
       "      [8.697542, 49.422598],\n",
       "      [8.69067, 49.429237],\n",
       "      [8.68395, 49.434352],\n",
       "      [8.68184, 49.43552],\n",
       "      [8.68163, 49.435393],\n",
       "      [8.674198, 49.426014],\n",
       "      [8.670803, 49.4198]]],\n",
       "    'type': 'Polygon'}}],\n",
       " 'metadata': {'attribution': 'openrouteservice.org | OpenStreetMap contributors',\n",
       "  'service': 'isochrones',\n",
       "  'timestamp': 1677498365550,\n",
       "  'query': {'profile': 'driving-car',\n",
       "   'locations': [[8.681495, 49.41461], [8.686507, 49.41943]],\n",
       "   'range': [300.0, 200.0]},\n",
       "  'engine': {'version': '6.8.1',\n",
       "   'build_date': '2023-02-19T05:01:01Z',\n",
       "   'graph_date': '2023-02-19T15:04:34Z'}}}"
      ]
     },
     "execution_count": 30,
     "metadata": {},
     "output_type": "execute_result"
    }
   ],
   "source": [
    "response.json()"
   ]
  },
  {
   "attachments": {},
   "cell_type": "markdown",
   "metadata": {},
   "source": [
    "#### 3.5 Create DeoDataFrame "
   ]
  },
  {
   "cell_type": "code",
   "execution_count": 31,
   "metadata": {},
   "outputs": [
    {
     "name": "stdout",
     "output_type": "stream",
     "text": [
      "                                            geometry  group_index  value  \\\n",
      "0  POLYGON ((8.67291 49.41717, 8.67294 49.41703, ...            0  200.0   \n",
      "1  POLYGON ((8.66362 49.41910, 8.66368 49.41875, ...            0  300.0   \n",
      "2  POLYGON ((8.67626 49.41702, 8.67628 49.41683, ...            1  200.0   \n",
      "3  POLYGON ((8.67080 49.41980, 8.67082 49.41944, ...            1  300.0   \n",
      "\n",
      "                                  center  \n",
      "0   [8.6814962950468, 49.41460087012079]  \n",
      "1   [8.6814962950468, 49.41460087012079]  \n",
      "2  [8.68650646264858, 49.41942995674008]  \n",
      "3  [8.68650646264858, 49.41942995674008]  \n"
     ]
    }
   ],
   "source": [
    "gdf = gpd.GeoDataFrame.from_features(response.json()[\"features\"])\n",
    "print(gdf.head())"
   ]
  },
  {
   "attachments": {},
   "cell_type": "markdown",
   "metadata": {},
   "source": [
    "#### 3.6 Create web-map to look at the results"
   ]
  },
  {
   "cell_type": "code",
   "execution_count": 33,
   "metadata": {},
   "outputs": [],
   "source": [
    "osm_map = folium.Map(location=[8.681495,49.41461], zoom_start=10)\n",
    "points  = folium.features.GeoJson(gdf.to_json())\n",
    "osm_map.add_child(points)\n",
    "osm_map"
   ]
  },
  {
   "attachments": {},
   "cell_type": "markdown",
   "metadata": {},
   "source": [
    "## 4. DataMos API: it was never so easy to get a data ..."
   ]
  },
  {
   "attachments": {},
   "cell_type": "markdown",
   "metadata": {},
   "source": [
    "#### 4.1 Set parameters for the request"
   ]
  },
  {
   "cell_type": "code",
   "execution_count": 41,
   "metadata": {},
   "outputs": [],
   "source": [
    "datamos_api = 'b0c0ad1adf1319a3a8b1c2ed7649b21e'\n",
    "data_set = 2263\n",
    "\n",
    "url_data = f'https://apidata.mos.ru/v1/datasets/{data_set}/features?api_key={datamos_api}'"
   ]
  },
  {
   "attachments": {},
   "cell_type": "markdown",
   "metadata": {},
   "source": [
    "#### 4.2 Request data"
   ]
  },
  {
   "cell_type": "code",
   "execution_count": 42,
   "metadata": {},
   "outputs": [],
   "source": [
    "data_mos = requests.get(url = url_data )"
   ]
  },
  {
   "attachments": {},
   "cell_type": "markdown",
   "metadata": {},
   "source": [
    "#### 4.2 Create GeoDataFrame"
   ]
  },
  {
   "cell_type": "code",
   "execution_count": 47,
   "metadata": {},
   "outputs": [],
   "source": [
    "schools = gpd.GeoDataFrame.from_features(data_mos.json()[\"features\"])\n",
    "schools.head()\n"
   ]
  },
  {
   "attachments": {},
   "cell_type": "markdown",
   "metadata": {},
   "source": [
    "#### 4.3 Split attributes to a separate fields"
   ]
  },
  {
   "cell_type": "code",
   "execution_count": 49,
   "metadata": {},
   "outputs": [],
   "source": [
    "\n",
    "schools_attributes = pd.DataFrame(schools['Attributes'].values.tolist(), index=schools.index)\n",
    "schools_final = pd.concat([schools, schools_attributes], axis = 1).drop('Attributes', axis = 1)\n",
    "schools_final.head()\n"
   ]
  }
 ],
 "metadata": {
  "kernelspec": {
   "display_name": "Python 3",
   "language": "python",
   "name": "python3"
  },
  "language_info": {
   "codemirror_mode": {
    "name": "ipython",
    "version": 3
   },
   "file_extension": ".py",
   "mimetype": "text/x-python",
   "name": "python",
   "nbconvert_exporter": "python",
   "pygments_lexer": "ipython3",
   "version": "3.10.6"
  },
  "orig_nbformat": 4,
  "vscode": {
   "interpreter": {
    "hash": "aee8b7b246df8f9039afb4144a1f6fd8d2ca17a180786b69acc140d282b71a49"
   }
  }
 },
 "nbformat": 4,
 "nbformat_minor": 2
}
